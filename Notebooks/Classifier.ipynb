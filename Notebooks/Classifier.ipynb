{
 "cells": [
  {
   "cell_type": "markdown",
   "metadata": {},
   "source": [
    "# Using notebooks we will explore the process of trainign and consuming a model\n",
    "\n",
    "First let's load some packages to maniupulate images\n",
    ""
   ]
  },
  {
   "cell_type": "code",
   "execution_count": 1,
   "metadata": {},
   "source": [
    "#r \"nuget:SixLabors.ImageSharp,1.0.2\""
   ],
   "outputs": []
  },
  {
   "cell_type": "markdown",
   "metadata": {},
   "source": [
    "## Get images\n",
    "\n",
    "We can download images from the web, let's create some helper function"
   ]
  },
  {
   "cell_type": "code",
   "execution_count": 1,
   "metadata": {},
   "source": [
    "using SixLabors.ImageSharp;\n",
    "using SixLabors.ImageSharp.PixelFormats;\n",
    "using System.Net.Http;\n",
    "\n",
    "Image GetImage(string url)\n",
    "{\n",
    "    var client = new HttpClient();\n",
    "    var image = client.GetByteArrayAsync(url).Result;\n",
    "    return Image.Load(image);\n",
    "}"
   ],
   "outputs": []
  },
  {
   "cell_type": "code",
   "execution_count": 1,
   "metadata": {},
   "source": [
    "var image = GetImage(\"https://user-images.githubusercontent.com/2546640/56708992-deee8780-66ec-11e9-9991-eb85abb1d10a.png\");\n",
    "image"
   ],
   "outputs": []
  },
  {
   "cell_type": "markdown",
   "metadata": {},
   "source": [
    "## it would be better to see the image, let's use the foramtter api"
   ]
  },
  {
   "cell_type": "code",
   "execution_count": 1,
   "metadata": {},
   "source": [
    "using System.IO;\n",
    "using SixLabors.ImageSharp.Formats.Png;\n",
    "using Microsoft.DotNet.Interactive.Formatting;\n",
    "\n",
    "Formatter.Register<Image>((image, writer) =>\n",
    "{\n",
    "    var id = Guid.NewGuid().ToString(\"N\");\n",
    "    using var stream = new MemoryStream();\n",
    "    image.Save(stream, new PngEncoder());\n",
    "    stream.Flush();\n",
    "    var data = stream.ToArray();\n",
    "    var imageSource = $\"data:image/png;base64, {Convert.ToBase64String(data)}\";\n",
    "    PocketView imgTag = PocketViewTags.img[id: id, src: imageSource, height: image.Height, width: image.Width]();\n",
    "    writer.Write(imgTag);\n",
    "}, HtmlFormatter.MimeType);\n",
    ""
   ],
   "outputs": []
  },
  {
   "cell_type": "code",
   "execution_count": 1,
   "metadata": {},
   "source": [
    "image"
   ],
   "outputs": []
  },
  {
   "cell_type": "markdown",
   "metadata": {},
   "source": [
    "Good but something smaller would be better"
   ]
  },
  {
   "cell_type": "code",
   "execution_count": 1,
   "metadata": {},
   "source": [
    "using SixLabors.ImageSharp.Processing;\n",
    "\n",
    "Image Reduce(Image source, int maxSize = 300){\n",
    "    var max = Math.Max(source.Width, source.Height);\n",
    "    var ratio = ((double)(maxSize)) / max;\n",
    "    return source.Clone(c => c.Resize((int)(source.Width * ratio), (int)(source.Height * ratio)));\n",
    "}\n",
    ""
   ],
   "outputs": []
  },
  {
   "cell_type": "code",
   "execution_count": 1,
   "metadata": {},
   "source": [
    "Reduce(image)"
   ],
   "outputs": []
  },
  {
   "cell_type": "markdown",
   "metadata": {},
   "source": [
    "Better, now I am interested in bayblade, let's display some"
   ]
  },
  {
   "cell_type": "code",
   "execution_count": 1,
   "metadata": {},
   "source": [
    "var urls = new string[]{\n",
    "    \"https://cdn.shopify.com/s/files/1/0016/0674/6186/products/B154_1_1024x1024.jpg?v=1573909023\",\n",
    "    \"https://i.ytimg.com/vi/yUH2QeluaIU/maxresdefault.jpg\",\n",
    "    \"https://www.biggerbids.com/members/images/29371/public/8065336_-DSC5628-32467-26524-.jpg\",\n",
    "    \"https://i.ytimg.com/vi/BT4SwVmnqqQ/maxresdefault.jpg\",\n",
    "    \"https://cdn.shopify.com/s/files/1/0016/0674/6186/products/B160covercopy2_1200x1200.jpg?v=1585425105\",\n",
    "    \"https://animeukiyo.com/wp-content/uploads/2020/05/king-helios-zone-1B-1140x570.jpg\",\n",
    "    \"https://http2.mlstatic.com/beyblade-burn-phoenix-ice-blue-90wf-takara-tomy-frete-pac-D_NQ_NP_19415-MLB20171031427_092014-F.jpg\"\n",
    "};\n",
    "\n",
    "var beyBlades = urls.Select(url => new { Image = Reduce(GetImage(url))});\n",
    ""
   ],
   "outputs": []
  },
  {
   "cell_type": "code",
   "execution_count": 1,
   "metadata": {},
   "source": [
    "beyBlades"
   ],
   "outputs": []
  },
  {
   "cell_type": "markdown",
   "metadata": {},
   "source": [
    "## Enter lobe\n",
    "We will now use lobe and it's .NET Bindings to developa model to classify those images. Let's start lobe and have a look first, then we will proceed with loading the pacakges we need."
   ]
  },
  {
   "cell_type": "code",
   "execution_count": 1,
   "metadata": {},
   "source": [
    "#r \"nuget:lobe\"\n",
    "#r \"nuget:lobe.ImageSharp\"\n",
    "\n",
    "using lobe;\n",
    "using lobe.ImageSharp;"
   ],
   "outputs": []
  },
  {
   "cell_type": "markdown",
   "metadata": {},
   "source": [
    "Lobe can be accessed via web api let's use that for fast loops"
   ]
  },
  {
   "cell_type": "code",
   "execution_count": 1,
   "metadata": {},
   "source": [
    "#r \"nuget:lobe.Http\"\n",
    "\n",
    "using lobe.Http;\n",
    ""
   ],
   "outputs": []
  },
  {
   "cell_type": "code",
   "execution_count": 1,
   "metadata": {},
   "source": [
    "var beyblades_start = new Uri(\"http://localhost:38100/predict/3af915df-14b7-4834-afbd-6615deca4e26\");\n",
    "var beyblades = new Uri(\"http://localhost:38100/predict/f56e1050-391e-4cd6-9bb9-ff74dc4d84f5\");\n",
    "var beyblades_2 = new Uri(\"http://localhost:38100/predict/f56e1050-391e-4cd6-9bb9-ff74dc4d84f5\");\n",
    "var beyblades_3 = new Uri(\"http://localhost:38100/predict/a3271b3a-f63b-4c00-9304-beda43375284\");\n",
    "var beyblade_remote = new Uri(\"http://lobe-diego.ngrok.io/predict/2a6a3005-a8cc-4bc1-a71a-a0fe85f258bb\");\n",
    "\n",
    "var httpClassifier = new LobeClient(beyblades_3);\n",
    "\n",
    "httpClassifier.Classify(beyBlades.First().Image.CloneAs<Rgb24>())\n",
    "\n",
    ""
   ],
   "outputs": []
  },
  {
   "cell_type": "code",
   "execution_count": 1,
   "metadata": {},
   "source": [
    "var imageSources = urls.Select(url => Reduce(GetImage(url),800).CloneAs<Rgb24>()).ToList();"
   ],
   "outputs": []
  },
  {
   "cell_type": "code",
   "execution_count": 1,
   "metadata": {},
   "source": [
    "var classifications = imageSources.Select((img) => {\n",
    "    var cls = httpClassifier.Classify(img);\n",
    "    return new {\n",
    "        Image = Reduce(img),\n",
    "        Label = cls.Prediction.Label,\n",
    "        Confidence = cls.Prediction.Confidence\n",
    "    };\n",
    "});\n",
    "\n",
    "classifications"
   ],
   "outputs": []
  }
 ],
 "metadata": {
  "kernelspec": {
   "display_name": ".NET (C#)",
   "language": "C#",
   "name": ".net-csharp"
  },
  "language_info": {
   "file_extension": ".cs",
   "mimetype": "text/x-csharp",
   "name": "C#",
   "pygments_lexer": "csharp",
   "version": "8.0"
  }
 },
 "nbformat": 4,
 "nbformat_minor": 4
}